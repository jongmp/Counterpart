{
 "cells": [
  {
   "cell_type": "markdown",
   "metadata": {},
   "source": [
    "# Counterpart Take Home Assignment \n",
    "## Exploratory Data Analysis and Data Cleaning\n",
    "\n",
    "* Data Preparation for Dashboard Tracking Hit Rate (Policy Count / Quote Count)\n",
    "\n",
    "### Table of Contents:\n",
    "* [Importing Data and Packages](#1)\n",
    "* [Initial Data Quality Checks](#2)\n",
    "* [Merging Tables](#3)\n",
    "* [Identifying Any Missing Dates in Policy and Quote Dates](#4)\n",
    "* [Cases Where Policy Date Exceeds 30 days for Quote Date](#5)\n",
    "* [Linear Regression for Future Estimates](#6)\n",
    "* [Naive Walk Forecast](#7)"
   ]
  },
  {
   "cell_type": "markdown",
   "metadata": {},
   "source": [
    "### Importing Data and Packages <a id=\"1\"></a> "
   ]
  },
  {
   "cell_type": "code",
   "execution_count": 471,
   "metadata": {},
   "outputs": [],
   "source": [
    "# Importing Packages\n",
    "import pandas as pd \n",
    "import numpy as np \n",
    "import datetime \n",
    "import seaborn as sns\n",
    "from sklearn.linear_model import LinearRegression\n",
    "from copy import deepcopy"
   ]
  },
  {
   "cell_type": "code",
   "execution_count": 472,
   "metadata": {},
   "outputs": [],
   "source": [
    "# Importing Data\n",
    "policy = pd.read_csv(\"policies.csv\")\n",
    "quotes = pd.read_csv(\"quotes.csv\")\n",
    "submissions = pd.read_csv(\"submissions.csv\")\n",
    "\n",
    "# Naming DataFrames for Reference \n",
    "policy.name = \"Policy\"\n",
    "quotes.name = \"Quotes\"\n",
    "submissions.name = \"Submissions\""
   ]
  },
  {
   "cell_type": "markdown",
   "metadata": {},
   "source": [
    "#### Data Quality Check <a id=\"2\"></a>"
   ]
  },
  {
   "cell_type": "code",
   "execution_count": 473,
   "metadata": {},
   "outputs": [],
   "source": [
    "# Data Quality Checks \n",
    "\n",
    "# Check for unique rows in a column and missing values \n",
    "def dq_check_col(df, col1):\n",
    "    # Identifying Table Name \n",
    "    print(df.name, \"Table >\")\n",
    "    # Identifying if column values are unique \n",
    "    print(col1, \"Is Unique:\", df[col1].is_unique)\n",
    "    # Identifying any null values\n",
    "    print(col1, \"Is Null:\", df[col1].isnull().any(), \"\\n\" )\n",
    "    \n",
    "    # Flag when not unique or not duplicated \n",
    "    if df[col1].is_unique == False:\n",
    "        raise Exception(df.name, col1, \"Not Unique Column! \\n\")\n",
    "    # Raising Exception when column is null \n",
    "    if df[col1].isnull().any() == True:\n",
    "        raise Exception(df.name, col1, \"Contains Missing Values! \\n\")"
   ]
  },
  {
   "cell_type": "code",
   "execution_count": 474,
   "metadata": {},
   "outputs": [
    {
     "name": "stdout",
     "output_type": "stream",
     "text": [
      "Quotes Table >\n",
      "Application ID Is Unique: True\n",
      "Application ID Is Null: False \n",
      "\n",
      "Quotes Table >\n",
      "Quote ID Is Unique: True\n",
      "Quote ID Is Null: False \n",
      "\n",
      "Policy Table >\n",
      "Policy ID Is Unique: True\n",
      "Policy ID Is Null: False \n",
      "\n",
      "Policy Table >\n",
      "Quote ID Is Unique: True\n",
      "Quote ID Is Null: False \n",
      "\n",
      "Submissions Table >\n",
      "Application ID Is Unique: True\n",
      "Application ID Is Null: False \n",
      "\n",
      "Meets Primary Key Data Check!\n"
     ]
    }
   ],
   "source": [
    "# Ensuring that Primary and Foreign Keys are not duplicated and not missing > This would be built into a data pipeline with automated checks (Airflow)\n",
    "try:\n",
    "    # Check Unique Rows for Quotes Table \n",
    "    dq_check_col(quotes, \"Application ID\")\n",
    "    dq_check_col(quotes, \"Quote ID\")\n",
    "\n",
    "    # Check Unique Rows for Policy Table \n",
    "    dq_check_col(policy, \"Policy ID\")\n",
    "    dq_check_col(policy, \"Quote ID\")\n",
    "\n",
    "    # Check Unique Rows for Submissions Table \n",
    "    dq_check_col(submissions, \"Application ID\")\n",
    "    \n",
    "    # Basic Data Quality Check Success\n",
    "    print(\"Meets Primary Key Data Check!\")\n",
    "except:\n",
    "    print(\"Check Exception Raised\")"
   ]
  },
  {
   "cell_type": "markdown",
   "metadata": {},
   "source": [
    "#### Converting Dates into Datetimes"
   ]
  },
  {
   "cell_type": "code",
   "execution_count": 475,
   "metadata": {},
   "outputs": [],
   "source": [
    "policy['Policy Created At Date'] = pd.to_datetime(policy['Policy Created At Date'])\n",
    "quotes['Quoted Date'] = pd.to_datetime(quotes['Quoted Date Date'])"
   ]
  },
  {
   "cell_type": "markdown",
   "metadata": {},
   "source": [
    "#### Checking for Missing States and Industries "
   ]
  },
  {
   "cell_type": "code",
   "execution_count": 476,
   "metadata": {},
   "outputs": [
    {
     "name": "stdout",
     "output_type": "stream",
     "text": [
      "Number of Missing States 0\n",
      "Number of Missing Industries 85\n"
     ]
    }
   ],
   "source": [
    "# Number of Missing States\n",
    "print(\"Number of Missing States\", submissions['State'].isnull().sum())\n",
    "\n",
    "# Number of Missing Industries\n",
    "print(\"Number of Missing Industries\", submissions['Industry'].isnull().sum())"
   ]
  },
  {
   "cell_type": "code",
   "execution_count": 477,
   "metadata": {},
   "outputs": [],
   "source": [
    "# Filling in Missing Industry with Miscellaneous Services // If that is the reason.. if it was just not filled then it should be left blank\n",
    "submissions['Industry'] = submissions['Industry'].fillna(\"Miscellaneous Services\")"
   ]
  },
  {
   "cell_type": "markdown",
   "metadata": {},
   "source": [
    "#### Joining Tables <a id=\"3\"></a>"
   ]
  },
  {
   "cell_type": "code",
   "execution_count": 478,
   "metadata": {},
   "outputs": [],
   "source": [
    "# Joining quotes into submissions table based on application id\n",
    "df = submissions.merge(quotes, left_on=\"Application ID\", right_on=\"Application ID\", how=\"left\")\n",
    "\n",
    "# Joining policy into the base table based on quote id \n",
    "df = df.merge(policy, left_on=\"Quote ID\", right_on=\"Quote ID\", how=\"left\")\n",
    "\n",
    "# Cleaning up columns\n",
    "df = df[['Application ID', 'State', 'Industry', 'Quote ID','Quoted Date', 'Policy ID', 'Policy Created At Date']]\n",
    "\n",
    "# Defining Name for the DataFrame\n",
    "df.name = \"Joined Table\""
   ]
  },
  {
   "cell_type": "code",
   "execution_count": 479,
   "metadata": {},
   "outputs": [
    {
     "data": {
      "text/html": [
       "<div>\n",
       "<style scoped>\n",
       "    .dataframe tbody tr th:only-of-type {\n",
       "        vertical-align: middle;\n",
       "    }\n",
       "\n",
       "    .dataframe tbody tr th {\n",
       "        vertical-align: top;\n",
       "    }\n",
       "\n",
       "    .dataframe thead th {\n",
       "        text-align: right;\n",
       "    }\n",
       "</style>\n",
       "<table border=\"1\" class=\"dataframe\">\n",
       "  <thead>\n",
       "    <tr style=\"text-align: right;\">\n",
       "      <th></th>\n",
       "      <th>Application ID</th>\n",
       "      <th>State</th>\n",
       "      <th>Industry</th>\n",
       "      <th>Quote ID</th>\n",
       "      <th>Quoted Date</th>\n",
       "      <th>Policy ID</th>\n",
       "      <th>Policy Created At Date</th>\n",
       "    </tr>\n",
       "  </thead>\n",
       "  <tbody>\n",
       "    <tr>\n",
       "      <th>0</th>\n",
       "      <td>0001b80c-8a10-4943-8f5c-482a9909409c</td>\n",
       "      <td>Maine</td>\n",
       "      <td>Equipment &amp; Vehicle Repair</td>\n",
       "      <td>0001b80c-8a10-4943-8f5c-482a9909409c</td>\n",
       "      <td>2022-12-05</td>\n",
       "      <td>NaN</td>\n",
       "      <td>NaT</td>\n",
       "    </tr>\n",
       "    <tr>\n",
       "      <th>1</th>\n",
       "      <td>000208ef-a4e1-42e6-b85c-2b384add52c1</td>\n",
       "      <td>Maine</td>\n",
       "      <td>Department &amp; Wholesale Stores</td>\n",
       "      <td>000208ef-a4e1-42e6-b85c-2b384add52c1</td>\n",
       "      <td>2022-12-08</td>\n",
       "      <td>NaN</td>\n",
       "      <td>NaT</td>\n",
       "    </tr>\n",
       "    <tr>\n",
       "      <th>2</th>\n",
       "      <td>000811f7-0412-4d09-a429-23748bf5ffc9</td>\n",
       "      <td>Maine</td>\n",
       "      <td>Real Estate</td>\n",
       "      <td>000811f7-0412-4d09-a429-23748bf5ffc9</td>\n",
       "      <td>2022-11-17</td>\n",
       "      <td>NaN</td>\n",
       "      <td>NaT</td>\n",
       "    </tr>\n",
       "    <tr>\n",
       "      <th>3</th>\n",
       "      <td>001165e3-4d46-4497-8525-2f69b74288cf</td>\n",
       "      <td>Maine</td>\n",
       "      <td>Nonprofit &amp; Member Organizations</td>\n",
       "      <td>NaN</td>\n",
       "      <td>NaT</td>\n",
       "      <td>NaN</td>\n",
       "      <td>NaT</td>\n",
       "    </tr>\n",
       "    <tr>\n",
       "      <th>4</th>\n",
       "      <td>00252e54-f499-45fa-a054-7bead2c13d2c</td>\n",
       "      <td>Maine</td>\n",
       "      <td>Performing Arts &amp; Sports</td>\n",
       "      <td>NaN</td>\n",
       "      <td>NaT</td>\n",
       "      <td>NaN</td>\n",
       "      <td>NaT</td>\n",
       "    </tr>\n",
       "  </tbody>\n",
       "</table>\n",
       "</div>"
      ],
      "text/plain": [
       "                         Application ID  State   \n",
       "0  0001b80c-8a10-4943-8f5c-482a9909409c  Maine  \\\n",
       "1  000208ef-a4e1-42e6-b85c-2b384add52c1  Maine   \n",
       "2  000811f7-0412-4d09-a429-23748bf5ffc9  Maine   \n",
       "3  001165e3-4d46-4497-8525-2f69b74288cf  Maine   \n",
       "4  00252e54-f499-45fa-a054-7bead2c13d2c  Maine   \n",
       "\n",
       "                           Industry                              Quote ID   \n",
       "0        Equipment & Vehicle Repair  0001b80c-8a10-4943-8f5c-482a9909409c  \\\n",
       "1     Department & Wholesale Stores  000208ef-a4e1-42e6-b85c-2b384add52c1   \n",
       "2                       Real Estate  000811f7-0412-4d09-a429-23748bf5ffc9   \n",
       "3  Nonprofit & Member Organizations                                   NaN   \n",
       "4          Performing Arts & Sports                                   NaN   \n",
       "\n",
       "  Quoted Date Policy ID Policy Created At Date  \n",
       "0  2022-12-05       NaN                    NaT  \n",
       "1  2022-12-08       NaN                    NaT  \n",
       "2  2022-11-17       NaN                    NaT  \n",
       "3         NaT       NaN                    NaT  \n",
       "4         NaT       NaN                    NaT  "
      ]
     },
     "execution_count": 479,
     "metadata": {},
     "output_type": "execute_result"
    }
   ],
   "source": [
    "df.head()"
   ]
  },
  {
   "cell_type": "markdown",
   "metadata": {},
   "source": [
    "#### Check if Any Quotes or Policies Weren't Joined"
   ]
  },
  {
   "cell_type": "code",
   "execution_count": 480,
   "metadata": {},
   "outputs": [],
   "source": [
    "# Function to check if all primary and second keys were pulled in\n",
    "def num_pk(final_df, ind_df, col1):\n",
    "    if final_df[col1].nunique() == ind_df[col1].nunique():\n",
    "        print(\"All\", col1, \"pulled in! \\n\")\n",
    "    else:\n",
    "        print(final_df.name, \"has\",final_df[col1].nunique(), col1, \"rows\")\n",
    "        print(ind_df.name, \"has\",ind_df[col1].nunique(), col1, \"rows\")\n",
    "        print(ind_df[col1].nunique() - final_df[col1].nunique(), col1, \"was not pulled in! \\n\")"
   ]
  },
  {
   "cell_type": "code",
   "execution_count": 481,
   "metadata": {},
   "outputs": [
    {
     "name": "stdout",
     "output_type": "stream",
     "text": [
      "Joined Table has 3136 Quote ID rows\n",
      "Quotes has 3148 Quote ID rows\n",
      "12 Quote ID was not pulled in! \n",
      "\n",
      "Joined Table has 407 Policy ID rows\n",
      "Policy has 418 Policy ID rows\n",
      "11 Policy ID was not pulled in! \n",
      "\n"
     ]
    }
   ],
   "source": [
    "# Check if all Quote IDs were pulled in\n",
    "num_pk(df, quotes, \"Quote ID\")\n",
    "\n",
    "# Check if all Policy IDs were pulled in \n",
    "num_pk(df, policy, \"Policy ID\")"
   ]
  },
  {
   "cell_type": "markdown",
   "metadata": {},
   "source": [
    "#### Identifying Any Missing Dates in Policy and Quote Dates <a id=\"4\"></a>"
   ]
  },
  {
   "cell_type": "code",
   "execution_count": 482,
   "metadata": {},
   "outputs": [
    {
     "data": {
      "text/plain": [
       "<Axes: xlabel='Count', ylabel='Quoted Date'>"
      ]
     },
     "execution_count": 482,
     "metadata": {},
     "output_type": "execute_result"
    },
    {
     "data": {
      "image/png": "[encoded data removed]",
      "text/plain": [
       "<Figure size 640x480 with 1 Axes>"
      ]
     },
     "metadata": {},
     "output_type": "display_data"
    }
   ],
   "source": [
    "# Visualizing Quote Months and Distribution \n",
    "sns.histplot(data=df, y=\"Quoted Date\")"
   ]
  },
  {
   "cell_type": "code",
   "execution_count": 483,
   "metadata": {},
   "outputs": [
    {
     "data": {
      "text/plain": [
       "<Axes: xlabel='Count', ylabel='Policy Created At Date'>"
      ]
     },
     "execution_count": 483,
     "metadata": {},
     "output_type": "execute_result"
    },
    {
     "data": {
      "image/png": "[encoded data removed]",
      "text/plain": [
       "<Figure size 640x480 with 1 Axes>"
      ]
     },
     "metadata": {},
     "output_type": "display_data"
    }
   ],
   "source": [
    "# Visualizing Quote Months and Distribution \n",
    "sns.histplot(data=df, y=\"Policy Created At Date\")"
   ]
  },
  {
   "cell_type": "markdown",
   "metadata": {},
   "source": [
    "#### Cases Where Policy Date Exceeds 30 days for Quote Date <a id=\"5\"></a>"
   ]
  },
  {
   "cell_type": "code",
   "execution_count": 484,
   "metadata": {},
   "outputs": [
    {
     "name": "stdout",
     "output_type": "stream",
     "text": [
      "The number of expired policies: 79\n"
     ]
    },
    {
     "data": {
      "text/html": [
       "<div>\n",
       "<style scoped>\n",
       "    .dataframe tbody tr th:only-of-type {\n",
       "        vertical-align: middle;\n",
       "    }\n",
       "\n",
       "    .dataframe tbody tr th {\n",
       "        vertical-align: top;\n",
       "    }\n",
       "\n",
       "    .dataframe thead th {\n",
       "        text-align: right;\n",
       "    }\n",
       "</style>\n",
       "<table border=\"1\" class=\"dataframe\">\n",
       "  <thead>\n",
       "    <tr style=\"text-align: right;\">\n",
       "      <th></th>\n",
       "      <th>Application ID</th>\n",
       "      <th>State</th>\n",
       "      <th>Industry</th>\n",
       "      <th>Quote ID</th>\n",
       "      <th>Quoted Date</th>\n",
       "      <th>Policy ID</th>\n",
       "      <th>Policy Created At Date</th>\n",
       "      <th>Quoted Date Plus 30 Days</th>\n",
       "      <th>Expired Policy Created</th>\n",
       "    </tr>\n",
       "  </thead>\n",
       "  <tbody>\n",
       "    <tr>\n",
       "      <th>656</th>\n",
       "      <td>52a08196-0e01-47e7-abbe-a1d974814e4d</td>\n",
       "      <td>Maine</td>\n",
       "      <td>Restaurant &amp; Food Services</td>\n",
       "      <td>52a08196-0e01-47e7-abbe-a1d974814e4d</td>\n",
       "      <td>2022-10-25</td>\n",
       "      <td>95eda22a-478f-4347-9c5d-3bf076e1cc52</td>\n",
       "      <td>2022-12-29</td>\n",
       "      <td>2022-11-24</td>\n",
       "      <td>Expired</td>\n",
       "    </tr>\n",
       "    <tr>\n",
       "      <th>892</th>\n",
       "      <td>6e260571-c215-4c14-91c0-22f45ba12271</td>\n",
       "      <td>Maine</td>\n",
       "      <td>Analytics &amp; Business Intelligence</td>\n",
       "      <td>6e260571-c215-4c14-91c0-22f45ba12271</td>\n",
       "      <td>2022-09-09</td>\n",
       "      <td>9baf1ec9-dcd3-447a-83e0-52674bec6753</td>\n",
       "      <td>2022-11-11</td>\n",
       "      <td>2022-10-09</td>\n",
       "      <td>Expired</td>\n",
       "    </tr>\n",
       "    <tr>\n",
       "      <th>1020</th>\n",
       "      <td>81470a68-e6bc-4d81-834c-73cb63d2e9a8</td>\n",
       "      <td>Maine</td>\n",
       "      <td>Miscellaneous Wholesale</td>\n",
       "      <td>81470a68-e6bc-4d81-834c-73cb63d2e9a8</td>\n",
       "      <td>2022-10-27</td>\n",
       "      <td>ae70d84d-3c02-471c-918e-cfcd4d63c727</td>\n",
       "      <td>2022-12-07</td>\n",
       "      <td>2022-11-26</td>\n",
       "      <td>Expired</td>\n",
       "    </tr>\n",
       "    <tr>\n",
       "      <th>1421</th>\n",
       "      <td>af1c121f-b121-4a93-b0f4-d676abed2a1e</td>\n",
       "      <td>Maine</td>\n",
       "      <td>Transportation Equipment &amp; Parts Manufacturing</td>\n",
       "      <td>af1c121f-b121-4a93-b0f4-d676abed2a1e</td>\n",
       "      <td>2022-10-11</td>\n",
       "      <td>ea4cbbd0-566c-430d-8d80-b672ddf2d1f1</td>\n",
       "      <td>2022-11-21</td>\n",
       "      <td>2022-11-10</td>\n",
       "      <td>Expired</td>\n",
       "    </tr>\n",
       "    <tr>\n",
       "      <th>2023</th>\n",
       "      <td>f50bde28-8b4d-44d7-8c91-d79076d31751</td>\n",
       "      <td>Maine</td>\n",
       "      <td>Technology Software</td>\n",
       "      <td>f50bde28-8b4d-44d7-8c91-d79076d31751</td>\n",
       "      <td>2022-12-20</td>\n",
       "      <td>41a15eac-2eec-405b-9ab1-8fa846bbdc89</td>\n",
       "      <td>2023-01-20</td>\n",
       "      <td>2023-01-19</td>\n",
       "      <td>Expired</td>\n",
       "    </tr>\n",
       "  </tbody>\n",
       "</table>\n",
       "</div>"
      ],
      "text/plain": [
       "                            Application ID  State   \n",
       "656   52a08196-0e01-47e7-abbe-a1d974814e4d  Maine  \\\n",
       "892   6e260571-c215-4c14-91c0-22f45ba12271  Maine   \n",
       "1020  81470a68-e6bc-4d81-834c-73cb63d2e9a8  Maine   \n",
       "1421  af1c121f-b121-4a93-b0f4-d676abed2a1e  Maine   \n",
       "2023  f50bde28-8b4d-44d7-8c91-d79076d31751  Maine   \n",
       "\n",
       "                                            Industry   \n",
       "656                       Restaurant & Food Services  \\\n",
       "892                Analytics & Business Intelligence   \n",
       "1020                         Miscellaneous Wholesale   \n",
       "1421  Transportation Equipment & Parts Manufacturing   \n",
       "2023                             Technology Software   \n",
       "\n",
       "                                  Quote ID Quoted Date   \n",
       "656   52a08196-0e01-47e7-abbe-a1d974814e4d  2022-10-25  \\\n",
       "892   6e260571-c215-4c14-91c0-22f45ba12271  2022-09-09   \n",
       "1020  81470a68-e6bc-4d81-834c-73cb63d2e9a8  2022-10-27   \n",
       "1421  af1c121f-b121-4a93-b0f4-d676abed2a1e  2022-10-11   \n",
       "2023  f50bde28-8b4d-44d7-8c91-d79076d31751  2022-12-20   \n",
       "\n",
       "                                 Policy ID Policy Created At Date   \n",
       "656   95eda22a-478f-4347-9c5d-3bf076e1cc52             2022-12-29  \\\n",
       "892   9baf1ec9-dcd3-447a-83e0-52674bec6753             2022-11-11   \n",
       "1020  ae70d84d-3c02-471c-918e-cfcd4d63c727             2022-12-07   \n",
       "1421  ea4cbbd0-566c-430d-8d80-b672ddf2d1f1             2022-11-21   \n",
       "2023  41a15eac-2eec-405b-9ab1-8fa846bbdc89             2023-01-20   \n",
       "\n",
       "     Quoted Date Plus 30 Days Expired Policy Created  \n",
       "656                2022-11-24                Expired  \n",
       "892                2022-10-09                Expired  \n",
       "1020               2022-11-26                Expired  \n",
       "1421               2022-11-10                Expired  \n",
       "2023               2023-01-19                Expired  "
      ]
     },
     "execution_count": 484,
     "metadata": {},
     "output_type": "execute_result"
    }
   ],
   "source": [
    "# Creating Column of Quoted Date + 30 Days \n",
    "df['Quoted Date Plus 30 Days'] = df['Quoted Date'] + datetime.timedelta(days=30)\n",
    "\n",
    "# Creating column to identify dates were expired policy was created \n",
    "df['Expired Policy Created'] = df.apply(lambda x: 'Expired' if x['Quoted Date Plus 30 Days'] < x['Policy Created At Date'] else 'Not Expired', axis=1)\n",
    "\n",
    "# Identifying Rows where Policy was created past the 30 days window \n",
    "expired_policy = df[df['Quoted Date Plus 30 Days'] < df['Policy Created At Date']]\n",
    "\n",
    "print(\"The number of expired policies:\",len(expired_policy))\n",
    "\n",
    "# Show Expired Policies that were created\n",
    "expired_policy.head()"
   ]
  },
  {
   "cell_type": "code",
   "execution_count": 485,
   "metadata": {},
   "outputs": [],
   "source": [
    "df.to_excel(\"merged_hit_rate_table.xlsx\")"
   ]
  },
  {
   "cell_type": "code",
   "execution_count": 486,
   "metadata": {},
   "outputs": [],
   "source": [
    "# Writing Table to Snowflake using Snowflake Connector \n",
    "# pip install \"snowflake-connector-python[pandas]\"\n",
    "# success, nchunks, nrows, _ = write_pandas(cnx, df, 'customers')"
   ]
  },
  {
   "cell_type": "markdown",
   "metadata": {},
   "source": [
    "### Exploring Hit Rate Grouped by Quote and Policy Date "
   ]
  },
  {
   "cell_type": "code",
   "execution_count": 487,
   "metadata": {},
   "outputs": [
    {
     "name": "stdout",
     "output_type": "stream",
     "text": [
      "0.08143607705779335\n"
     ]
    }
   ],
   "source": [
    "# Grouping Quote Count by Month and Year \n",
    "quote_date_df = df.copy(deep=True)\n",
    "quote_date_df['Quote Year'] = quote_date_df['Quoted Date'].dt.year\n",
    "quote_date_df['Quote Month'] = quote_date_df['Quoted Date'].dt.month \n",
    "quote_count = quote_date_df.groupby(['Quote Year','Quote Month'])['Quote ID'].nunique().reset_index(name='quote_counts')\n",
    "\n",
    "# Grouping Policy Count by Month and Year \n",
    "policy_date_df = df.copy(deep=True)\n",
    "policy_date_df['Policy Year'] = policy_date_df['Policy Created At Date'].dt.year\n",
    "policy_date_df['Policy Month'] = policy_date_df['Policy Created At Date'].dt.month \n",
    "policy_count = policy_date_df.groupby(['Policy Year','Policy Month'])['Policy ID'].nunique().reset_index(name='policy_counts')\n",
    "\n",
    "# Merging by Month and Year for Hit Rate %\n",
    "year_month_hitrate = quote_count.merge(policy_count, left_on=[\"Quote Year\",\"Quote Month\"], right_on=[\"Policy Year\",\"Policy Month\"], how=\"left\")\n",
    "\n",
    "# Removing quotes created in December > As of December 31st, 2022, we don't have complete data on quotes \n",
    "year_month_hitrate = year_month_hitrate[year_month_hitrate['Quote Month'] <= 11]\n",
    "\n",
    "# Hit Rate by Month and Year\n",
    "year_month_hitrate['monthly_hit_rate'] = year_month_hitrate['policy_counts'] / year_month_hitrate['quote_counts'] \n",
    "\n",
    "# 2022 Hit Rate (Excluding December)\n",
    "total_hit_rate = year_month_hitrate['policy_counts'].sum() / year_month_hitrate['quote_counts'].sum() \n",
    "print(total_hit_rate)"
   ]
  },
  {
   "cell_type": "markdown",
   "metadata": {},
   "source": [
    "#### Calculating Hit Rate at Weekly Level"
   ]
  },
  {
   "cell_type": "code",
   "execution_count": 488,
   "metadata": {},
   "outputs": [],
   "source": [
    "# Assigning Week Numbers from Date\n",
    "df['Quoted Year'] = df['Quoted Date'].dt.isocalendar()[\"year\"]\n",
    "df['Quoted Week'] = df['Quoted Date'].dt.isocalendar()[\"week\"]\n",
    "\n",
    "# Filtering Hit Rates in December as it may change\n",
    "# df = df[df['Quoted Date'] < '2022-12-01']\n",
    "\n",
    "# Calculating Hit Rate at Weekly Level (based on Quoted Date)\n",
    "weekly_hit_rate = df.groupby(['Quoted Year','Quoted Week']).aggregate({'Quote ID':'count','Policy ID':'count'}).reset_index()\n",
    "\n",
    "# Combining Year and Week for Date \n",
    "weekly_hit_rate['formatted_date'] = weekly_hit_rate['Quoted Year'] * 1000 + weekly_hit_rate['Quoted Week'] * 10\n",
    "weekly_hit_rate['date'] = pd.to_datetime(weekly_hit_rate['formatted_date'], format='%Y%W%w')\n",
    "weekly_hit_rate['Time'] = np.arange(len(weekly_hit_rate.index))"
   ]
  },
  {
   "cell_type": "markdown",
   "metadata": {},
   "source": [
    "#### Linear Regression for Future Estimates > Too Aggressive <a id=\"6\"></a>"
   ]
  },
  {
   "cell_type": "code",
   "execution_count": 489,
   "metadata": {},
   "outputs": [],
   "source": [
    "# Calculating Weekly Hit Rate\n",
    "weekly_hit_rate['Hit Rate'] = weekly_hit_rate['Policy ID'] / weekly_hit_rate['Quote ID'] \n",
    "\n",
    "# Calculating Moving Average - 4 week period\n",
    "weekly_hit_rate['Hit Rate Moving Average'] = weekly_hit_rate['Hit Rate'].rolling(4).mean()\n",
    "\n",
    "# Training data for Linear Regression\n",
    "X = weekly_hit_rate.loc[:, ['Time']]  \n",
    "y = weekly_hit_rate.loc[:, 'Hit Rate']\n",
    "\n",
    "# Training the Linear Regression\n",
    "model = LinearRegression()\n",
    "model.fit(X, y)\n",
    "\n",
    "# Identifying 52 weeks of future times \n",
    "future_weeks = []\n",
    "max_time = X.max() + 1\n",
    "for i in range(0,53):\n",
    "    future_weeks.append(max_time + i)\n",
    "\n",
    "# Converting to DataFrame for Predicting \n",
    "ft_weeks = pd.DataFrame(future_weeks)\n",
    "\n",
    "# Store the fitted values as a time series with the same time index as\n",
    "y_pred = pd.Series(model.predict(ft_weeks), index=ft_weeks.index)"
   ]
  },
  {
   "cell_type": "code",
   "execution_count": 490,
   "metadata": {},
   "outputs": [],
   "source": [
    "# Preparing Forecast to be Outputted\n",
    "ft_weeks['Forecasted Hit Rate'] = y_pred\n",
    "\n",
    "# Removing Unnecessary Columns from the Weekly Hit Rate Table\n",
    "weekly_hit_rate = weekly_hit_rate[['Quoted Year', 'Quoted Week', 'Quote ID', 'Policy ID', 'date' ,'Time', 'Hit Rate']]\n",
    "\n",
    "# Renaming Columns for clarity\n",
    "weekly_hit_rate.columns = ['Quoted Year', 'Quoted Week', 'Num Quote ID', 'Num Policy ID', 'Date', 'Time', 'Hit Rate (Actual/Forecast)']\n",
    "# Adding column for forecast vs actuals\n",
    "weekly_hit_rate['Actual/Forecast'] = 'Actual'"
   ]
  },
  {
   "cell_type": "code",
   "execution_count": 491,
   "metadata": {},
   "outputs": [],
   "source": [
    "# Adding Columns to Forecasted table for concatting \n",
    "ft_weeks['Quoted Year'] = 2023 \n",
    "# Subtracting 17 from all weeks\n",
    "ft_weeks['Quoted Week'] = [x - 17 for x in ft_weeks['Time']]\n",
    "# Empty columns for Num Quote ID, Num Policy ID \n",
    "ft_weeks['Num Quote ID'] = np.nan\n",
    "ft_weeks['Num Policy ID'] = np.nan\n",
    "# Getting Date from Quoted Year and Week \n",
    "ft_weeks['formatted_date'] = ft_weeks['Quoted Year'] * 1000 + ft_weeks['Quoted Week'] * 10\n",
    "ft_weeks['Date'] = pd.to_datetime(ft_weeks['formatted_date'], format='%Y%W%w')\n",
    "# Reordering Columns \n",
    "ft_weeks = ft_weeks[['Quoted Year', 'Quoted Week', 'Num Quote ID', 'Num Policy ID', 'Date', 'Time', 'Forecasted Hit Rate']]\n",
    "ft_weeks.columns = ['Quoted Year', 'Quoted Week', 'Num Quote ID', 'Num Policy ID', 'Date', 'Time', 'Hit Rate (Actual/Forecast)']\n",
    "\n",
    "# Adding column for forecast vs actuals\n",
    "ft_weeks['Actual/Forecast'] = 'Forecast'"
   ]
  },
  {
   "cell_type": "code",
   "execution_count": 492,
   "metadata": {},
   "outputs": [],
   "source": [
    "# Concating Base Table and Forecast Table \n",
    "actuals_forecast_df = pd.concat([weekly_hit_rate, ft_weeks])"
   ]
  },
  {
   "cell_type": "code",
   "execution_count": 493,
   "metadata": {},
   "outputs": [],
   "source": [
    "# Output to Excel for Visualization > Tableau Public restriction on csv files \n",
    "actuals_forecast_df.to_excel(\"forecasted_hit_rate.xlsx\")"
   ]
  },
  {
   "cell_type": "markdown",
   "metadata": {},
   "source": [
    "#### Naive Random Walk - Last Value as Forecast <a id=\"7\"></a>"
   ]
  },
  {
   "cell_type": "code",
   "execution_count": 494,
   "metadata": {},
   "outputs": [],
   "source": [
    "# Using Forecast Template for Naive Random Walk \n",
    "naive_forecast_df = actuals_forecast_df.copy(deep=True)\n",
    "\n",
    "# Setting Date above 2022-12-01 as forecast and Null for Hit Rate \n",
    "naive_forecast_df.loc[naive_forecast_df['Date'] > '2022-12-01','Actual/Forecast'] = 'Forecast'\n",
    "naive_forecast_df.loc[naive_forecast_df['Date'] > '2022-12-01','Hit Rate (Actual/Forecast)'] = np.nan\n",
    "\n",
    "# Filling in Missing Hit Rates with last seen value \n",
    "naive_forecast_df['Hit Rate (Actual/Forecast)'] = naive_forecast_df['Hit Rate (Actual/Forecast)'].fillna(method='ffill')\n",
    "\n",
    "# Output to Excel for Visualization > Tableau Public restriction on csv files \n",
    "naive_forecast_df.to_excel(\"naive_hitrate_forecast.xlsx\")"
   ]
  },
  {
   "cell_type": "code",
   "execution_count": 495,
   "metadata": {},
   "outputs": [
    {
     "data": {
      "text/html": [
       "<div>\n",
       "<style scoped>\n",
       "    .dataframe tbody tr th:only-of-type {\n",
       "        vertical-align: middle;\n",
       "    }\n",
       "\n",
       "    .dataframe tbody tr th {\n",
       "        vertical-align: top;\n",
       "    }\n",
       "\n",
       "    .dataframe thead th {\n",
       "        text-align: right;\n",
       "    }\n",
       "</style>\n",
       "<table border=\"1\" class=\"dataframe\">\n",
       "  <thead>\n",
       "    <tr style=\"text-align: right;\">\n",
       "      <th></th>\n",
       "      <th>Quoted Year</th>\n",
       "      <th>Quoted Week</th>\n",
       "      <th>Num Quote ID</th>\n",
       "      <th>Num Policy ID</th>\n",
       "      <th>Date</th>\n",
       "      <th>Time</th>\n",
       "      <th>Hit Rate (Actual/Forecast)</th>\n",
       "      <th>Actual/Forecast</th>\n",
       "    </tr>\n",
       "  </thead>\n",
       "  <tbody>\n",
       "    <tr>\n",
       "      <th>0</th>\n",
       "      <td>2022</td>\n",
       "      <td>35</td>\n",
       "      <td>34.0</td>\n",
       "      <td>3.0</td>\n",
       "      <td>2022-09-04</td>\n",
       "      <td>0</td>\n",
       "      <td>0.088235</td>\n",
       "      <td>Actual</td>\n",
       "    </tr>\n",
       "    <tr>\n",
       "      <th>1</th>\n",
       "      <td>2022</td>\n",
       "      <td>36</td>\n",
       "      <td>108.0</td>\n",
       "      <td>17.0</td>\n",
       "      <td>2022-09-11</td>\n",
       "      <td>1</td>\n",
       "      <td>0.157407</td>\n",
       "      <td>Actual</td>\n",
       "    </tr>\n",
       "    <tr>\n",
       "      <th>2</th>\n",
       "      <td>2022</td>\n",
       "      <td>37</td>\n",
       "      <td>131.0</td>\n",
       "      <td>17.0</td>\n",
       "      <td>2022-09-18</td>\n",
       "      <td>2</td>\n",
       "      <td>0.129771</td>\n",
       "      <td>Actual</td>\n",
       "    </tr>\n",
       "    <tr>\n",
       "      <th>3</th>\n",
       "      <td>2022</td>\n",
       "      <td>38</td>\n",
       "      <td>184.0</td>\n",
       "      <td>16.0</td>\n",
       "      <td>2022-09-25</td>\n",
       "      <td>3</td>\n",
       "      <td>0.086957</td>\n",
       "      <td>Actual</td>\n",
       "    </tr>\n",
       "    <tr>\n",
       "      <th>4</th>\n",
       "      <td>2022</td>\n",
       "      <td>39</td>\n",
       "      <td>254.0</td>\n",
       "      <td>29.0</td>\n",
       "      <td>2022-10-02</td>\n",
       "      <td>4</td>\n",
       "      <td>0.114173</td>\n",
       "      <td>Actual</td>\n",
       "    </tr>\n",
       "  </tbody>\n",
       "</table>\n",
       "</div>"
      ],
      "text/plain": [
       "   Quoted Year  Quoted Week  Num Quote ID  Num Policy ID       Date  Time   \n",
       "0         2022           35          34.0            3.0 2022-09-04     0  \\\n",
       "1         2022           36         108.0           17.0 2022-09-11     1   \n",
       "2         2022           37         131.0           17.0 2022-09-18     2   \n",
       "3         2022           38         184.0           16.0 2022-09-25     3   \n",
       "4         2022           39         254.0           29.0 2022-10-02     4   \n",
       "\n",
       "   Hit Rate (Actual/Forecast) Actual/Forecast  \n",
       "0                    0.088235          Actual  \n",
       "1                    0.157407          Actual  \n",
       "2                    0.129771          Actual  \n",
       "3                    0.086957          Actual  \n",
       "4                    0.114173          Actual  "
      ]
     },
     "execution_count": 495,
     "metadata": {},
     "output_type": "execute_result"
    }
   ],
   "source": [
    "naive_forecast_df.head()"
   ]
  },
  {
   "cell_type": "code",
   "execution_count": null,
   "metadata": {},
   "outputs": [],
   "source": []
  }
 ],
 "metadata": {
  "kernelspec": {
   "display_name": "Python 3",
   "language": "python",
   "name": "python3"
  },
  "language_info": {
   "codemirror_mode": {
    "name": "ipython",
    "version": 3
   },
   "file_extension": ".py",
   "mimetype": "text/x-python",
   "name": "python",
   "nbconvert_exporter": "python",
   "pygments_lexer": "ipython3",
   "version": "3.11.3"
  }
 },
 "nbformat": 4,
 "nbformat_minor": 2
}
